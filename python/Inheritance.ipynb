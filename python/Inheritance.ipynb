{
 "cells": [
  {
   "cell_type": "code",
   "execution_count": 3,
   "id": "55652fa4",
   "metadata": {},
   "outputs": [
    {
     "name": "stdout",
     "output_type": "stream",
     "text": [
      "in alpha-->fun()\n",
      "in alpha-->fun1()\n",
      "['__class__', '__delattr__', '__dict__', '__dir__', '__doc__', '__eq__', '__format__', '__ge__', '__getattribute__', '__gt__', '__hash__', '__init__', '__init_subclass__', '__le__', '__lt__', '__module__', '__ne__', '__new__', '__reduce__', '__reduce_ex__', '__repr__', '__setattr__', '__sizeof__', '__str__', '__subclasshook__', '__weakref__', 'fun', 'fun1']\n"
     ]
    }
   ],
   "source": [
    "#Single inheritance\n",
    "class Alpha:\n",
    "    def fun(self):\n",
    "        print('in alpha-->fun()')\n",
    "    def fun1(self):\n",
    "        print('in alpha-->fun1()')\n",
    "class Beta(Alpha): #to inhert from alpha\n",
    "    pass\n",
    "\n",
    "g = Beta()\n",
    "g.fun()\n",
    "g.fun1()\n",
    "print(dir(Beta))"
   ]
  },
  {
   "cell_type": "code",
   "execution_count": 5,
   "id": "1c90a901",
   "metadata": {},
   "outputs": [
    {
     "name": "stdout",
     "output_type": "stream",
     "text": [
      "in alpha-->fun()\n",
      "in Beta --> fun2()\n",
      "in beta-->fun1()\n",
      "['__class__', '__delattr__', '__dict__', '__dir__', '__doc__', '__eq__', '__format__', '__ge__', '__getattribute__', '__gt__', '__hash__', '__init__', '__init_subclass__', '__le__', '__lt__', '__module__', '__ne__', '__new__', '__reduce__', '__reduce_ex__', '__repr__', '__setattr__', '__sizeof__', '__str__', '__subclasshook__', '__weakref__', 'fun', 'fun1', 'fun2']\n"
     ]
    }
   ],
   "source": [
    "#multilevel inheritance\n",
    "class Alpha:\n",
    "    def fun(self):\n",
    "        print('in alpha-->fun()')\n",
    "class Beta(Alpha):\n",
    "    def fun1(self):\n",
    "        print('in beta-->fun1()')\n",
    "    def fun2(self):\n",
    "        print('in Beta --> fun2()')\n",
    "class Gamma(Beta):\n",
    "    pass\n",
    "\n",
    "g = Gamma()\n",
    "g.fun()\n",
    "g.fun2()\n",
    "g.fun1()\n",
    "print(dir(Gamma))\n",
    "    "
   ]
  },
  {
   "cell_type": "code",
   "execution_count": 7,
   "id": "04fbd361",
   "metadata": {},
   "outputs": [
    {
     "name": "stdout",
     "output_type": "stream",
     "text": [
      "in alpha-->fun()\n",
      "Help on class Gamma in module __main__:\n",
      "\n",
      "class Gamma(Alpha, Beta)\n",
      " |  Method resolution order:\n",
      " |      Gamma\n",
      " |      Alpha\n",
      " |      Beta\n",
      " |      builtins.object\n",
      " |  \n",
      " |  Methods inherited from Alpha:\n",
      " |  \n",
      " |  fun(self)\n",
      " |  \n",
      " |  ----------------------------------------------------------------------\n",
      " |  Data descriptors inherited from Alpha:\n",
      " |  \n",
      " |  __dict__\n",
      " |      dictionary for instance variables (if defined)\n",
      " |  \n",
      " |  __weakref__\n",
      " |      list of weak references to the object (if defined)\n",
      "\n",
      "(<class '__main__.Gamma'>, <class '__main__.Alpha'>, <class '__main__.Beta'>, <class 'object'>)\n"
     ]
    }
   ],
   "source": [
    "#multipule inheritance\n",
    "class Alpha:\n",
    "    def fun(self):\n",
    "        print('in alpha-->fun()')\n",
    "class Beta:\n",
    "    def fun(self):\n",
    "        print('in Beta-->fun()')\n",
    "class Gamma(Alpha,Beta): # way to inherit from two class\n",
    "    pass\n",
    "g = Gamma()\n",
    "g.fun()\n",
    "help(Gamma) # to see Method Resolution Order(MRO)\n",
    "print(Gamma.__mro__) #second way to see Method Resolution Order(MRO)\n",
    "print(Gamma.mro()) #Third way to see Method Resolution Order(MRO)\n",
    "# MRO used to avoid confusion in multiple inheritance \n",
    "# that confussion : when two class have methos with same name which method execute in which class"
   ]
  },
  {
   "cell_type": "code",
   "execution_count": null,
   "id": "a101143b",
   "metadata": {},
   "outputs": [],
   "source": []
  }
 ],
 "metadata": {
  "kernelspec": {
   "display_name": "Python 3 (ipykernel)",
   "language": "python",
   "name": "python3"
  },
  "language_info": {
   "codemirror_mode": {
    "name": "ipython",
    "version": 3
   },
   "file_extension": ".py",
   "mimetype": "text/x-python",
   "name": "python",
   "nbconvert_exporter": "python",
   "pygments_lexer": "ipython3",
   "version": "3.10.10"
  }
 },
 "nbformat": 4,
 "nbformat_minor": 5
}
